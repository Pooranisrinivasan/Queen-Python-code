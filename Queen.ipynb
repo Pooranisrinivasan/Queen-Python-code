{
 "cells": [
  {
   "cell_type": "code",
   "execution_count": 2,
   "metadata": {},
   "outputs": [],
   "source": [
    "import random\n",
    "import numpy as np\n",
    "from numpy.random import choice\n",
    "import pandas as pd"
   ]
  },
  {
   "cell_type": "code",
   "execution_count": 3,
   "metadata": {},
   "outputs": [],
   "source": [
    "secure_random = random.SystemRandom()"
   ]
  },
  {
   "cell_type": "code",
   "execution_count": 4,
   "metadata": {},
   "outputs": [],
   "source": [
    "def population():\n",
    "    randnums= np.random.randint(1,8, size=(4,8))\n",
    "    return randnums\n"
   ]
  },
  {
   "cell_type": "code",
   "execution_count": 5,
   "metadata": {},
   "outputs": [],
   "source": [
    "def fitness(chromosome):\n",
    "    nonclashes=0\n",
    "    r_c_clash=abs(len(chromosome)-len(np.unique(chromosome)))\n",
    "    clashes=0\n",
    "    dx=0\n",
    "    dy=0\n",
    "    clashes+=r_c_clash\n",
    "    for i in range(len(chromosome)):\n",
    "        for j in range(i,len(chromosome)):\n",
    "            if(i!=j):\n",
    "                dx=abs(i-j)\n",
    "                dy=(abs(chromosome[i]-chromosome[j]))\n",
    "                if(dx == dy):\n",
    "                    clashes += 1\n",
    "    nonclashes=abs(28-clashes)\n",
    "    return nonclashes"
   ]
  },
  {
   "cell_type": "code",
   "execution_count": 6,
   "metadata": {},
   "outputs": [],
   "source": [
    "def crossover(dict,point):\n",
    "    sum_dic=sum(dict.values())\n",
    "    out={}\n",
    "    list_key=[]\n",
    "    p1=''\n",
    "    p2=''\n",
    "    c3=''\n",
    "    c4=''\n",
    "    child_list=[]\n",
    "    cross=[]\n",
    "    #point=2\n",
    "    for i in dict:\n",
    "        dic={}\n",
    "        per=round(dict[i]/(sum_dic),2)\n",
    "        dic={i:per}\n",
    "        out.update(dic)   \n",
    "    for i in range(len(out)):\n",
    "        key, value = list(out.items())[i]\n",
    "        list_key.append(key)\n",
    "\n",
    "    #point=2\n",
    "    alpha_list=[0,1,2,3,4,5,6,7]\n",
    "\n",
    "    for i in range(len(list_key)):\n",
    "        if(i<len(list_key)):\n",
    "            if(i==0 or i==2):\n",
    "                j=i+1 \n",
    "                p1=list_key[i]\n",
    "                p2=list_key[j]\n",
    "                c1,c2 = list(p1),list(p2)\n",
    "                c3,c4=list(p1),list(p2)\n",
    "                for l in range(point,len(p1)):                                      \n",
    "                    c1[l],c2[l] = c2[l],c1[l]  \n",
    "                    c3[l],c4[l] = c4[l],c3[l]\n",
    "                                       \n",
    "                    c1[random.randint(0,7)]=secure_random.choice(alpha_list)\n",
    "                    c2[random.randint(0,7)]=secure_random.choice(alpha_list)\n",
    "                c3,c4 = ''.join(c3),''.join(c4)\n",
    "                cross.append(c3)\n",
    "                cross.append(c4)\n",
    "                child_list.append(c1)\n",
    "                child_list.append(c2) \n",
    "    #print(\"crossOver\",cross)\n",
    "    #print(\"Mutation\",np.array(child_list).astype('int'))\n",
    "    return np.array(child_list).astype('int')"
   ]
  },
  {
   "cell_type": "code",
   "execution_count": 7,
   "metadata": {},
   "outputs": [],
   "source": [
    "def main():\n",
    "    n=population()\n",
    "    #print(n)\n",
    "    c=0\n",
    "    while c<6:\n",
    "        dict={}\n",
    "        k=0\n",
    "        fitness_val= np. array([])\n",
    "        for k in range(len(n)):\n",
    "            to_append=fitness(n[k])   \n",
    "            fitness_val = np.append(fitness_val, to_append)\n",
    "            m=0\n",
    "            j=0\n",
    "            b=\"\"\n",
    "            for j in n[k]:\n",
    "                b=repr(n[k][m])+b\n",
    "                m=m+1\n",
    "                reversedName = b[::-1]\n",
    "            dict[reversedName]=fitness_val[k]\n",
    "        #print(dict.values())\n",
    "        c=0\n",
    "        for y,v in dict.items():\n",
    "            if(v==28):\n",
    "                print(\"The correct series\",y)             \n",
    "                    \n",
    "                c=6\n",
    "                break\n",
    "            if(c==(len(dict)-1)):\n",
    "                #print(c)\n",
    "                point = random.randint(1,6)\n",
    "                #print(point)\n",
    "                n=crossover(dict,point)\n",
    "                #print(\"Population\",n)\n",
    "                break\n",
    "            c=c+1"
   ]
  },
  {
   "cell_type": "code",
   "execution_count": 8,
   "metadata": {
    "scrolled": false
   },
   "outputs": [
    {
     "name": "stdout",
     "output_type": "stream",
     "text": [
      "The correct series 36271405\n"
     ]
    }
   ],
   "source": [
    "if __name__ == \"__main__\":\n",
    "    main()"
   ]
  },
  {
   "cell_type": "code",
   "execution_count": null,
   "metadata": {},
   "outputs": [],
   "source": []
  }
 ],
 "metadata": {
  "kernelspec": {
   "display_name": "Python 3",
   "language": "python",
   "name": "python3"
  },
  "language_info": {
   "codemirror_mode": {
    "name": "ipython",
    "version": 3
   },
   "file_extension": ".py",
   "mimetype": "text/x-python",
   "name": "python",
   "nbconvert_exporter": "python",
   "pygments_lexer": "ipython3",
   "version": "3.7.6"
  }
 },
 "nbformat": 4,
 "nbformat_minor": 4
}
